{
  "nbformat": 4,
  "nbformat_minor": 0,
  "metadata": {
    "colab": {
      "provenance": [],
      "toc_visible": true
    },
    "kernelspec": {
      "name": "python3",
      "display_name": "Python 3"
    },
    "language_info": {
      "name": "python"
    }
  },
  "cells": [
    {
      "cell_type": "markdown",
      "source": [
        "### Importación de datos\n",
        "\n"
      ],
      "metadata": {
        "id": "RhEdWd9YUR6H"
      }
    },
    {
      "cell_type": "code",
      "execution_count": 2,
      "metadata": {
        "colab": {
          "base_uri": "https://localhost:8080/",
          "height": 380
        },
        "id": "T3EvaeQ_INIL",
        "outputId": "959782d8-6cf2-4b7c-c76d-b29d5595f2cb"
      },
      "outputs": [
        {
          "output_type": "execute_result",
          "data": {
            "text/plain": [
              "            Producto Categoría del Producto    Precio  Costo de envío  \\\n",
              "0  Asistente virtual           Electrónicos  164300.0          6900.0   \n",
              "1    Mesa de comedor                Muebles  192300.0          8400.0   \n",
              "2      Juego de mesa               Juguetes  209600.0         15900.0   \n",
              "3         Microondas      Electrodomésticos  757500.0         41000.0   \n",
              "4   Silla de oficina                Muebles  335200.0         20200.0   \n",
              "\n",
              "  Fecha de Compra         Vendedor Lugar de Compra  Calificación  \\\n",
              "0      16/01/2021      Pedro Gomez          Bogotá             4   \n",
              "1      18/05/2022  Beatriz Morales        Medellín             1   \n",
              "2      15/03/2021   Juan Fernandez       Cartagena             1   \n",
              "3      03/05/2022   Juan Fernandez            Cali             4   \n",
              "4      07/11/2020    Maria Alfonso        Medellín             5   \n",
              "\n",
              "       Método de pago  Cantidad de cuotas       lat       lon  \n",
              "0  Tarjeta de crédito                   8   4.60971 -74.08175  \n",
              "1  Tarjeta de crédito                   4   6.25184 -75.56359  \n",
              "2  Tarjeta de crédito                   1  10.39972 -75.51444  \n",
              "3               Nequi                   1   3.43722 -76.52250  \n",
              "4               Nequi                   1   6.25184 -75.56359  "
            ],
            "text/html": [
              "\n",
              "  <div id=\"df-7f52a419-ac92-4ff5-92eb-c96844c0dcc9\" class=\"colab-df-container\">\n",
              "    <div>\n",
              "<style scoped>\n",
              "    .dataframe tbody tr th:only-of-type {\n",
              "        vertical-align: middle;\n",
              "    }\n",
              "\n",
              "    .dataframe tbody tr th {\n",
              "        vertical-align: top;\n",
              "    }\n",
              "\n",
              "    .dataframe thead th {\n",
              "        text-align: right;\n",
              "    }\n",
              "</style>\n",
              "<table border=\"1\" class=\"dataframe\">\n",
              "  <thead>\n",
              "    <tr style=\"text-align: right;\">\n",
              "      <th></th>\n",
              "      <th>Producto</th>\n",
              "      <th>Categoría del Producto</th>\n",
              "      <th>Precio</th>\n",
              "      <th>Costo de envío</th>\n",
              "      <th>Fecha de Compra</th>\n",
              "      <th>Vendedor</th>\n",
              "      <th>Lugar de Compra</th>\n",
              "      <th>Calificación</th>\n",
              "      <th>Método de pago</th>\n",
              "      <th>Cantidad de cuotas</th>\n",
              "      <th>lat</th>\n",
              "      <th>lon</th>\n",
              "    </tr>\n",
              "  </thead>\n",
              "  <tbody>\n",
              "    <tr>\n",
              "      <th>0</th>\n",
              "      <td>Asistente virtual</td>\n",
              "      <td>Electrónicos</td>\n",
              "      <td>164300.0</td>\n",
              "      <td>6900.0</td>\n",
              "      <td>16/01/2021</td>\n",
              "      <td>Pedro Gomez</td>\n",
              "      <td>Bogotá</td>\n",
              "      <td>4</td>\n",
              "      <td>Tarjeta de crédito</td>\n",
              "      <td>8</td>\n",
              "      <td>4.60971</td>\n",
              "      <td>-74.08175</td>\n",
              "    </tr>\n",
              "    <tr>\n",
              "      <th>1</th>\n",
              "      <td>Mesa de comedor</td>\n",
              "      <td>Muebles</td>\n",
              "      <td>192300.0</td>\n",
              "      <td>8400.0</td>\n",
              "      <td>18/05/2022</td>\n",
              "      <td>Beatriz Morales</td>\n",
              "      <td>Medellín</td>\n",
              "      <td>1</td>\n",
              "      <td>Tarjeta de crédito</td>\n",
              "      <td>4</td>\n",
              "      <td>6.25184</td>\n",
              "      <td>-75.56359</td>\n",
              "    </tr>\n",
              "    <tr>\n",
              "      <th>2</th>\n",
              "      <td>Juego de mesa</td>\n",
              "      <td>Juguetes</td>\n",
              "      <td>209600.0</td>\n",
              "      <td>15900.0</td>\n",
              "      <td>15/03/2021</td>\n",
              "      <td>Juan Fernandez</td>\n",
              "      <td>Cartagena</td>\n",
              "      <td>1</td>\n",
              "      <td>Tarjeta de crédito</td>\n",
              "      <td>1</td>\n",
              "      <td>10.39972</td>\n",
              "      <td>-75.51444</td>\n",
              "    </tr>\n",
              "    <tr>\n",
              "      <th>3</th>\n",
              "      <td>Microondas</td>\n",
              "      <td>Electrodomésticos</td>\n",
              "      <td>757500.0</td>\n",
              "      <td>41000.0</td>\n",
              "      <td>03/05/2022</td>\n",
              "      <td>Juan Fernandez</td>\n",
              "      <td>Cali</td>\n",
              "      <td>4</td>\n",
              "      <td>Nequi</td>\n",
              "      <td>1</td>\n",
              "      <td>3.43722</td>\n",
              "      <td>-76.52250</td>\n",
              "    </tr>\n",
              "    <tr>\n",
              "      <th>4</th>\n",
              "      <td>Silla de oficina</td>\n",
              "      <td>Muebles</td>\n",
              "      <td>335200.0</td>\n",
              "      <td>20200.0</td>\n",
              "      <td>07/11/2020</td>\n",
              "      <td>Maria Alfonso</td>\n",
              "      <td>Medellín</td>\n",
              "      <td>5</td>\n",
              "      <td>Nequi</td>\n",
              "      <td>1</td>\n",
              "      <td>6.25184</td>\n",
              "      <td>-75.56359</td>\n",
              "    </tr>\n",
              "  </tbody>\n",
              "</table>\n",
              "</div>\n",
              "    <div class=\"colab-df-buttons\">\n",
              "\n",
              "  <div class=\"colab-df-container\">\n",
              "    <button class=\"colab-df-convert\" onclick=\"convertToInteractive('df-7f52a419-ac92-4ff5-92eb-c96844c0dcc9')\"\n",
              "            title=\"Convert this dataframe to an interactive table.\"\n",
              "            style=\"display:none;\">\n",
              "\n",
              "  <svg xmlns=\"http://www.w3.org/2000/svg\" height=\"24px\" viewBox=\"0 -960 960 960\">\n",
              "    <path d=\"M120-120v-720h720v720H120Zm60-500h600v-160H180v160Zm220 220h160v-160H400v160Zm0 220h160v-160H400v160ZM180-400h160v-160H180v160Zm440 0h160v-160H620v160ZM180-180h160v-160H180v160Zm440 0h160v-160H620v160Z\"/>\n",
              "  </svg>\n",
              "    </button>\n",
              "\n",
              "  <style>\n",
              "    .colab-df-container {\n",
              "      display:flex;\n",
              "      gap: 12px;\n",
              "    }\n",
              "\n",
              "    .colab-df-convert {\n",
              "      background-color: #E8F0FE;\n",
              "      border: none;\n",
              "      border-radius: 50%;\n",
              "      cursor: pointer;\n",
              "      display: none;\n",
              "      fill: #1967D2;\n",
              "      height: 32px;\n",
              "      padding: 0 0 0 0;\n",
              "      width: 32px;\n",
              "    }\n",
              "\n",
              "    .colab-df-convert:hover {\n",
              "      background-color: #E2EBFA;\n",
              "      box-shadow: 0px 1px 2px rgba(60, 64, 67, 0.3), 0px 1px 3px 1px rgba(60, 64, 67, 0.15);\n",
              "      fill: #174EA6;\n",
              "    }\n",
              "\n",
              "    .colab-df-buttons div {\n",
              "      margin-bottom: 4px;\n",
              "    }\n",
              "\n",
              "    [theme=dark] .colab-df-convert {\n",
              "      background-color: #3B4455;\n",
              "      fill: #D2E3FC;\n",
              "    }\n",
              "\n",
              "    [theme=dark] .colab-df-convert:hover {\n",
              "      background-color: #434B5C;\n",
              "      box-shadow: 0px 1px 3px 1px rgba(0, 0, 0, 0.15);\n",
              "      filter: drop-shadow(0px 1px 2px rgba(0, 0, 0, 0.3));\n",
              "      fill: #FFFFFF;\n",
              "    }\n",
              "  </style>\n",
              "\n",
              "    <script>\n",
              "      const buttonEl =\n",
              "        document.querySelector('#df-7f52a419-ac92-4ff5-92eb-c96844c0dcc9 button.colab-df-convert');\n",
              "      buttonEl.style.display =\n",
              "        google.colab.kernel.accessAllowed ? 'block' : 'none';\n",
              "\n",
              "      async function convertToInteractive(key) {\n",
              "        const element = document.querySelector('#df-7f52a419-ac92-4ff5-92eb-c96844c0dcc9');\n",
              "        const dataTable =\n",
              "          await google.colab.kernel.invokeFunction('convertToInteractive',\n",
              "                                                    [key], {});\n",
              "        if (!dataTable) return;\n",
              "\n",
              "        const docLinkHtml = 'Like what you see? Visit the ' +\n",
              "          '<a target=\"_blank\" href=https://colab.research.google.com/notebooks/data_table.ipynb>data table notebook</a>'\n",
              "          + ' to learn more about interactive tables.';\n",
              "        element.innerHTML = '';\n",
              "        dataTable['output_type'] = 'display_data';\n",
              "        await google.colab.output.renderOutput(dataTable, element);\n",
              "        const docLink = document.createElement('div');\n",
              "        docLink.innerHTML = docLinkHtml;\n",
              "        element.appendChild(docLink);\n",
              "      }\n",
              "    </script>\n",
              "  </div>\n",
              "\n",
              "\n",
              "    <div id=\"df-dc581770-3b9a-4967-a862-fa485226fb0f\">\n",
              "      <button class=\"colab-df-quickchart\" onclick=\"quickchart('df-dc581770-3b9a-4967-a862-fa485226fb0f')\"\n",
              "                title=\"Suggest charts\"\n",
              "                style=\"display:none;\">\n",
              "\n",
              "<svg xmlns=\"http://www.w3.org/2000/svg\" height=\"24px\"viewBox=\"0 0 24 24\"\n",
              "     width=\"24px\">\n",
              "    <g>\n",
              "        <path d=\"M19 3H5c-1.1 0-2 .9-2 2v14c0 1.1.9 2 2 2h14c1.1 0 2-.9 2-2V5c0-1.1-.9-2-2-2zM9 17H7v-7h2v7zm4 0h-2V7h2v10zm4 0h-2v-4h2v4z\"/>\n",
              "    </g>\n",
              "</svg>\n",
              "      </button>\n",
              "\n",
              "<style>\n",
              "  .colab-df-quickchart {\n",
              "      --bg-color: #E8F0FE;\n",
              "      --fill-color: #1967D2;\n",
              "      --hover-bg-color: #E2EBFA;\n",
              "      --hover-fill-color: #174EA6;\n",
              "      --disabled-fill-color: #AAA;\n",
              "      --disabled-bg-color: #DDD;\n",
              "  }\n",
              "\n",
              "  [theme=dark] .colab-df-quickchart {\n",
              "      --bg-color: #3B4455;\n",
              "      --fill-color: #D2E3FC;\n",
              "      --hover-bg-color: #434B5C;\n",
              "      --hover-fill-color: #FFFFFF;\n",
              "      --disabled-bg-color: #3B4455;\n",
              "      --disabled-fill-color: #666;\n",
              "  }\n",
              "\n",
              "  .colab-df-quickchart {\n",
              "    background-color: var(--bg-color);\n",
              "    border: none;\n",
              "    border-radius: 50%;\n",
              "    cursor: pointer;\n",
              "    display: none;\n",
              "    fill: var(--fill-color);\n",
              "    height: 32px;\n",
              "    padding: 0;\n",
              "    width: 32px;\n",
              "  }\n",
              "\n",
              "  .colab-df-quickchart:hover {\n",
              "    background-color: var(--hover-bg-color);\n",
              "    box-shadow: 0 1px 2px rgba(60, 64, 67, 0.3), 0 1px 3px 1px rgba(60, 64, 67, 0.15);\n",
              "    fill: var(--button-hover-fill-color);\n",
              "  }\n",
              "\n",
              "  .colab-df-quickchart-complete:disabled,\n",
              "  .colab-df-quickchart-complete:disabled:hover {\n",
              "    background-color: var(--disabled-bg-color);\n",
              "    fill: var(--disabled-fill-color);\n",
              "    box-shadow: none;\n",
              "  }\n",
              "\n",
              "  .colab-df-spinner {\n",
              "    border: 2px solid var(--fill-color);\n",
              "    border-color: transparent;\n",
              "    border-bottom-color: var(--fill-color);\n",
              "    animation:\n",
              "      spin 1s steps(1) infinite;\n",
              "  }\n",
              "\n",
              "  @keyframes spin {\n",
              "    0% {\n",
              "      border-color: transparent;\n",
              "      border-bottom-color: var(--fill-color);\n",
              "      border-left-color: var(--fill-color);\n",
              "    }\n",
              "    20% {\n",
              "      border-color: transparent;\n",
              "      border-left-color: var(--fill-color);\n",
              "      border-top-color: var(--fill-color);\n",
              "    }\n",
              "    30% {\n",
              "      border-color: transparent;\n",
              "      border-left-color: var(--fill-color);\n",
              "      border-top-color: var(--fill-color);\n",
              "      border-right-color: var(--fill-color);\n",
              "    }\n",
              "    40% {\n",
              "      border-color: transparent;\n",
              "      border-right-color: var(--fill-color);\n",
              "      border-top-color: var(--fill-color);\n",
              "    }\n",
              "    60% {\n",
              "      border-color: transparent;\n",
              "      border-right-color: var(--fill-color);\n",
              "    }\n",
              "    80% {\n",
              "      border-color: transparent;\n",
              "      border-right-color: var(--fill-color);\n",
              "      border-bottom-color: var(--fill-color);\n",
              "    }\n",
              "    90% {\n",
              "      border-color: transparent;\n",
              "      border-bottom-color: var(--fill-color);\n",
              "    }\n",
              "  }\n",
              "</style>\n",
              "\n",
              "      <script>\n",
              "        async function quickchart(key) {\n",
              "          const quickchartButtonEl =\n",
              "            document.querySelector('#' + key + ' button');\n",
              "          quickchartButtonEl.disabled = true;  // To prevent multiple clicks.\n",
              "          quickchartButtonEl.classList.add('colab-df-spinner');\n",
              "          try {\n",
              "            const charts = await google.colab.kernel.invokeFunction(\n",
              "                'suggestCharts', [key], {});\n",
              "          } catch (error) {\n",
              "            console.error('Error during call to suggestCharts:', error);\n",
              "          }\n",
              "          quickchartButtonEl.classList.remove('colab-df-spinner');\n",
              "          quickchartButtonEl.classList.add('colab-df-quickchart-complete');\n",
              "        }\n",
              "        (() => {\n",
              "          let quickchartButtonEl =\n",
              "            document.querySelector('#df-dc581770-3b9a-4967-a862-fa485226fb0f button');\n",
              "          quickchartButtonEl.style.display =\n",
              "            google.colab.kernel.accessAllowed ? 'block' : 'none';\n",
              "        })();\n",
              "      </script>\n",
              "    </div>\n",
              "\n",
              "    </div>\n",
              "  </div>\n"
            ],
            "application/vnd.google.colaboratory.intrinsic+json": {
              "type": "dataframe",
              "variable_name": "tienda",
              "summary": "{\n  \"name\": \"tienda\",\n  \"rows\": 2359,\n  \"fields\": [\n    {\n      \"column\": \"Producto\",\n      \"properties\": {\n        \"dtype\": \"category\",\n        \"num_unique_values\": 51,\n        \"samples\": [\n          \"Guitarra ac\\u00fastica\",\n          \"Bal\\u00f3n de baloncesto\",\n          \"Smartwatch\"\n        ],\n        \"semantic_type\": \"\",\n        \"description\": \"\"\n      }\n    },\n    {\n      \"column\": \"Categor\\u00eda del Producto\",\n      \"properties\": {\n        \"dtype\": \"category\",\n        \"num_unique_values\": 8,\n        \"samples\": [\n          \"Muebles\",\n          \"Deportes y diversi\\u00f3n\",\n          \"Electr\\u00f3nicos\"\n        ],\n        \"semantic_type\": \"\",\n        \"description\": \"\"\n      }\n    },\n    {\n      \"column\": \"Precio\",\n      \"properties\": {\n        \"dtype\": \"number\",\n        \"std\": 614686.7653873172,\n        \"min\": 7600.0,\n        \"max\": 2977000.0,\n        \"num_unique_values\": 1937,\n        \"samples\": [\n          2499400.0,\n          14800.0,\n          80500.0\n        ],\n        \"semantic_type\": \"\",\n        \"description\": \"\"\n      }\n    },\n    {\n      \"column\": \"Costo de env\\u00edo\",\n      \"properties\": {\n        \"dtype\": \"number\",\n        \"std\": 32860.0017825605,\n        \"min\": 0.0,\n        \"max\": 160800.0,\n        \"num_unique_values\": 753,\n        \"samples\": [\n          117800.0,\n          54700.0,\n          45600.0\n        ],\n        \"semantic_type\": \"\",\n        \"description\": \"\"\n      }\n    },\n    {\n      \"column\": \"Fecha de Compra\",\n      \"properties\": {\n        \"dtype\": \"object\",\n        \"num_unique_values\": 1018,\n        \"samples\": [\n          \"15/09/2022\",\n          \"03/06/2020\",\n          \"06/11/2021\"\n        ],\n        \"semantic_type\": \"\",\n        \"description\": \"\"\n      }\n    },\n    {\n      \"column\": \"Vendedor\",\n      \"properties\": {\n        \"dtype\": \"category\",\n        \"num_unique_values\": 14,\n        \"samples\": [\n          \"Juliana Costa\",\n          \"Mariana Herrera\",\n          \"Pedro Gomez\"\n        ],\n        \"semantic_type\": \"\",\n        \"description\": \"\"\n      }\n    },\n    {\n      \"column\": \"Lugar de Compra\",\n      \"properties\": {\n        \"dtype\": \"category\",\n        \"num_unique_values\": 19,\n        \"samples\": [\n          \"Bogot\\u00e1\",\n          \"Pereira\",\n          \"Neiva\"\n        ],\n        \"semantic_type\": \"\",\n        \"description\": \"\"\n      }\n    },\n    {\n      \"column\": \"Calificaci\\u00f3n\",\n      \"properties\": {\n        \"dtype\": \"number\",\n        \"std\": 1,\n        \"min\": 1,\n        \"max\": 5,\n        \"num_unique_values\": 5,\n        \"samples\": [\n          1,\n          2,\n          5\n        ],\n        \"semantic_type\": \"\",\n        \"description\": \"\"\n      }\n    },\n    {\n      \"column\": \"M\\u00e9todo de pago\",\n      \"properties\": {\n        \"dtype\": \"category\",\n        \"num_unique_values\": 4,\n        \"samples\": [\n          \"Nequi\",\n          \"Tarjeta de d\\u00e9bito\",\n          \"Tarjeta de cr\\u00e9dito\"\n        ],\n        \"semantic_type\": \"\",\n        \"description\": \"\"\n      }\n    },\n    {\n      \"column\": \"Cantidad de cuotas\",\n      \"properties\": {\n        \"dtype\": \"number\",\n        \"std\": 2,\n        \"min\": 1,\n        \"max\": 24,\n        \"num_unique_values\": 15,\n        \"samples\": [\n          7,\n          14,\n          8\n        ],\n        \"semantic_type\": \"\",\n        \"description\": \"\"\n      }\n    },\n    {\n      \"column\": \"lat\",\n      \"properties\": {\n        \"dtype\": \"number\",\n        \"std\": 2.2874452492678627,\n        \"min\": -4.21528,\n        \"max\": 11.54444,\n        \"num_unique_values\": 19,\n        \"samples\": [\n          4.60971,\n          4.81333,\n          2.9273\n        ],\n        \"semantic_type\": \"\",\n        \"description\": \"\"\n      }\n    },\n    {\n      \"column\": \"lon\",\n      \"properties\": {\n        \"dtype\": \"number\",\n        \"std\": 1.2178272727088486,\n        \"min\": -77.28111,\n        \"max\": -67.9239,\n        \"num_unique_values\": 19,\n        \"samples\": [\n          -74.08175,\n          -75.69611,\n          -75.28189\n        ],\n        \"semantic_type\": \"\",\n        \"description\": \"\"\n      }\n    }\n  ]\n}"
            }
          },
          "metadata": {},
          "execution_count": 2
        }
      ],
      "source": [
        "import pandas as pd\n",
        "\n",
        "url = \"https://raw.githubusercontent.com/alura-es-cursos/challenge1-data-science-latam/refs/heads/main/base-de-datos-challenge1-latam/tienda_1%20.csv\"\n",
        "url2 = \"https://raw.githubusercontent.com/alura-es-cursos/challenge1-data-science-latam/refs/heads/main/base-de-datos-challenge1-latam/tienda_2.csv\"\n",
        "url3 = \"https://raw.githubusercontent.com/alura-es-cursos/challenge1-data-science-latam/refs/heads/main/base-de-datos-challenge1-latam/tienda_3.csv\"\n",
        "url4 = \"https://raw.githubusercontent.com/alura-es-cursos/challenge1-data-science-latam/refs/heads/main/base-de-datos-challenge1-latam/tienda_4.csv\"\n",
        "\n",
        "tienda = pd.read_csv(url)\n",
        "tienda2 = pd.read_csv(url2)\n",
        "tienda3 = pd.read_csv(url3)\n",
        "tienda4 = pd.read_csv(url4)\n",
        "\n",
        "tienda.head()"
      ]
    },
    {
      "cell_type": "markdown",
      "source": [
        "🎯 Introducción al Sistema de Evaluación\n",
        "Con el objetivo de recomendar cuál de las cuatro tiendas vender, se diseñó un sistema de evaluación multi-criterio que permite analizar cada tienda desde distintas dimensiones clave del negocio.\n",
        "\n",
        "📊 Criterios Evaluados\n",
        "Se utilizaron cinco criterios, cada uno con un sistema de puntuación interno del 1 al 4, donde:\n",
        "\n",
        "1 punto → peor desempeño relativo\n",
        "\n",
        "4 puntos → mejor desempeño relativo\n",
        "\n",
        "Los criterios considerados fueron:\n",
        "\n",
        "Facturación total: mide los ingresos brutos de cada tienda.\n",
        "\n",
        "Distribución de ventas por categoría: evalúa qué tan diversificadas o concentradas están las ventas.\n",
        "\n",
        "Calificación promedio de clientes: refleja la satisfacción y experiencia de compra.\n",
        "\n",
        "Comportamiento de productos extremos: considera cuántas unidades se vendieron del producto más y menos vendido.\n",
        "\n",
        "Costo promedio de envío: analiza la eficiencia logística y su impacto en la experiencia del cliente.\n",
        "\n",
        "⚖️ Ponderación cualitativa (β)\n",
        "Para reflejar la relevancia estratégica de cada criterio, se asignó un peso cualitativo (β) de impacto, con esta escala:\n",
        "\n",
        "1 → Bajo impacto\n",
        "\n",
        "2 → Impacto medio\n",
        "\n",
        "3 → Alto impacto\n",
        "\n",
        "Los valores asignados fueron:\n",
        "\n",
        "Criterio\tDescripción\tβ\n",
        "1\tFacturación total\t3\n",
        "2\tVentas por categoría\t2\n",
        "3\tCalificación promedio\t3\n",
        "4\tProductos más y menos vendidos\t2\n",
        "5\tCosto promedio de envío\t3\n",
        "\n",
        "🧮 Puntaje final ponderado\n",
        "El puntaje final de cada tienda se calculó sumando sus puntuaciones por criterio multiplicadas por su respectiva ponderación (β), de la siguiente forma:\n",
        "\n",
        "\n",
        "Puntaje total =\n",
        "  (C1 × β1) + (C2 × β2) + (C3 × β3) + (C4 × β4) + (C5 × β5)\n",
        "\n",
        "Este enfoque permite obtener un ranking justo y estratégico, que pondera tanto el desempeño objetivo como la importancia real de cada área del negocio."
      ],
      "metadata": {
        "id": "ljfOMVgt_Rvf"
      }
    },
    {
      "cell_type": "markdown",
      "source": [
        "#1. Análisis de facturación (3)\n",
        "\n"
      ],
      "metadata": {
        "id": "X62IW3KFUIYm"
      }
    },
    {
      "cell_type": "code",
      "source": [
        "# Cálculo de la facturación total por tienda\n",
        "facturacion_1 = tienda[\"Precio\"].sum()\n",
        "facturacion_2 = tienda2[\"Precio\"].sum()\n",
        "facturacion_3 = tienda3[\"Precio\"].sum()\n",
        "facturacion_4 = tienda4[\"Precio\"].sum()\n",
        "\n",
        "# Mostrar resultados\n",
        "print(f\"🛍 Tienda 1: ${facturacion_1:,.0f}\")\n",
        "print(f\"🛍 Tienda 2: ${facturacion_2:,.0f}\")\n",
        "print(f\"🛍 Tienda 3: ${facturacion_3:,.0f}\")\n",
        "print(f\"🛍 Tienda 4: ${facturacion_4:,.0f}\")\n"
      ],
      "metadata": {
        "id": "xykobSftV64I",
        "colab": {
          "base_uri": "https://localhost:8080/"
        },
        "outputId": "bfc9102a-dbc4-47be-d7ea-8700730fe884"
      },
      "execution_count": 3,
      "outputs": [
        {
          "output_type": "stream",
          "name": "stdout",
          "text": [
            "🛍 Tienda 1: $1,150,880,400\n",
            "🛍 Tienda 2: $1,116,343,500\n",
            "🛍 Tienda 3: $1,098,019,600\n",
            "🛍 Tienda 4: $1,038,375,700\n"
          ]
        }
      ]
    },
    {
      "cell_type": "code",
      "source": [
        "# Diccionario con facturación por tienda\n",
        "facturacion = {\n",
        "    \"Tienda 1\": tienda[\"Precio\"].sum(),\n",
        "    \"Tienda 2\": tienda2[\"Precio\"].sum(),\n",
        "    \"Tienda 3\": tienda3[\"Precio\"].sum(),\n",
        "    \"Tienda 4\": tienda4[\"Precio\"].sum()\n",
        "}\n",
        "\n",
        "# Convertir a DataFrame\n",
        "df_facturacion = pd.DataFrame(list(facturacion.items()), columns=[\"Tienda\", \"Facturación\"])\n",
        "\n",
        "# Ordenar de mayor a menor\n",
        "df_ordenado = df_facturacion.sort_values(by=\"Facturación\", ascending=False)\n",
        "\n",
        "# Extraer y formatear resultados\n",
        "mejor = df_ordenado.iloc[0]\n",
        "peor = df_ordenado.iloc[-1]\n",
        "\n",
        "# Imprimir sin metadatos y con formato de miles\n",
        "print(\"🏆 Tienda con mayor facturación:\")\n",
        "print(f\"   {mejor['Tienda']} con ${mejor['Facturación']:,.0f}\".replace(\",\", \".\"), \"\\n\")\n",
        "\n",
        "print(\"📉 Tienda con menor facturación:\")\n",
        "print(f\"   {peor['Tienda']} con ${peor['Facturación']:,.0f}\".replace(\",\", \".\"))\n"
      ],
      "metadata": {
        "id": "KDyr8E71V3m-",
        "colab": {
          "base_uri": "https://localhost:8080/"
        },
        "outputId": "b5e41e58-1d62-477e-c8e8-cbc5657d518f"
      },
      "execution_count": 11,
      "outputs": [
        {
          "output_type": "stream",
          "name": "stdout",
          "text": [
            "🏆 Tienda con mayor facturación:\n",
            "   Tienda 1 con $1.150.880.400 \n",
            "\n",
            "📉 Tienda con menor facturación:\n",
            "   Tienda 4 con $1.038.375.700\n"
          ]
        }
      ]
    },
    {
      "cell_type": "code",
      "source": [
        "# Cálculo de facturación total por tienda\n",
        "facturacion = {\n",
        "    \"Tienda 1\": tienda[\"Precio\"].sum(),\n",
        "    \"Tienda 2\": tienda2[\"Precio\"].sum(),\n",
        "    \"Tienda 3\": tienda3[\"Precio\"].sum(),\n",
        "    \"Tienda 4\": tienda4[\"Precio\"].sum()\n",
        "}\n",
        "\n",
        "# Convertir a DataFrame\n",
        "df_facturacion = pd.DataFrame(list(facturacion.items()), columns=[\"Tienda\", \"Facturación\"])\n",
        "\n",
        "# Ordenar de menor a mayor (para asignar puntajes del 1 al 5)\n",
        "df_facturacion = df_facturacion.sort_values(by=\"Facturación\", ascending=True)\n",
        "\n",
        "# Asignar puntaje del 1 (peor) al 5 (mejor)\n",
        "df_facturacion[\"Puntaje Criterio 1\"] = range(1, len(df_facturacion)+1)\n",
        "\n",
        "# Reordenar por nombre de tienda (opcional para lectura)\n",
        "df_facturacion = df_facturacion.sort_values(by=\"Tienda\")\n",
        "\n",
        "# Mostrar facturación con separadores de miles en texto\n",
        "df_facturacion[\"Facturación\"] = df_facturacion[\"Facturación\"].apply(lambda x: f\"${x:,.0f}\".replace(\",\", \".\"))\n",
        "\n",
        "# Mostrar resultado\n",
        "print(\"🎯 Puntaje por Facturación Total (Criterio 1):\")\n",
        "print(df_facturacion[[\"Tienda\", \"Facturación\", \"Puntaje Criterio 1\"]])\n",
        "\n"
      ],
      "metadata": {
        "colab": {
          "base_uri": "https://localhost:8080/"
        },
        "id": "gkf-ZO4f_jVX",
        "outputId": "a651e745-cc1e-4661-eb07-cf52e7906cc0"
      },
      "execution_count": 17,
      "outputs": [
        {
          "output_type": "stream",
          "name": "stdout",
          "text": [
            "🎯 Puntaje por Facturación Total (Criterio 1):\n",
            "     Tienda     Facturación  Puntaje Criterio 1\n",
            "0  Tienda 1  $1.150.880.400                   4\n",
            "1  Tienda 2  $1.116.343.500                   3\n",
            "2  Tienda 3  $1.098.019.600                   2\n",
            "3  Tienda 4  $1.038.375.700                   1\n"
          ]
        }
      ]
    },
    {
      "cell_type": "markdown",
      "source": [
        "La tienda 1 es la que más factura 💰\n",
        "La tienda 4 es la de facturación más baja, por ende sería la primera candidata a ser vendida según este criterio."
      ],
      "metadata": {
        "id": "nliqkTFQ6S9Y"
      }
    },
    {
      "cell_type": "markdown",
      "source": [
        "# 2. Ventas por categoría (2)\n"
      ],
      "metadata": {
        "id": "2V_vcAPzWZmR"
      }
    },
    {
      "cell_type": "code",
      "source": [
        "# Categorías más populares por tienda (salida limpia)\n",
        "\n",
        "print(\"📦 Tienda 1 - Categorías más vendidas:\")\n",
        "print(tienda[\"Categoría del Producto\"].value_counts().to_string(), \"\\n\")\n",
        "\n",
        "print(\"📦 Tienda 2 - Categorías más vendidas:\")\n",
        "print(tienda2[\"Categoría del Producto\"].value_counts().to_string(), \"\\n\")\n",
        "\n",
        "print(\"📦 Tienda 3 - Categorías más vendidas:\")\n",
        "print(tienda3[\"Categoría del Producto\"].value_counts().to_string(), \"\\n\")\n",
        "\n",
        "print(\"📦 Tienda 4 - Categorías más vendidas:\")\n",
        "print(tienda4[\"Categoría del Producto\"].value_counts().to_string(), \"\\n\")\n"
      ],
      "metadata": {
        "id": "A34YupIuYhfF",
        "colab": {
          "base_uri": "https://localhost:8080/"
        },
        "outputId": "094d1a56-814a-44e3-a100-a974a06fe0b2"
      },
      "execution_count": 5,
      "outputs": [
        {
          "output_type": "stream",
          "name": "stdout",
          "text": [
            "📦 Tienda 1 - Categorías más vendidas:\n",
            "Categoría del Producto\n",
            "Muebles                    465\n",
            "Electrónicos               448\n",
            "Juguetes                   324\n",
            "Electrodomésticos          312\n",
            "Deportes y diversión       284\n",
            "Instrumentos musicales     182\n",
            "Libros                     173\n",
            "Artículos para el hogar    171 \n",
            "\n",
            "📦 Tienda 2 - Categorías más vendidas:\n",
            "Categoría del Producto\n",
            "Muebles                    442\n",
            "Electrónicos               422\n",
            "Juguetes                   313\n",
            "Electrodomésticos          305\n",
            "Deportes y diversión       275\n",
            "Instrumentos musicales     224\n",
            "Libros                     197\n",
            "Artículos para el hogar    181 \n",
            "\n",
            "📦 Tienda 3 - Categorías más vendidas:\n",
            "Categoría del Producto\n",
            "Muebles                    499\n",
            "Electrónicos               451\n",
            "Juguetes                   315\n",
            "Electrodomésticos          278\n",
            "Deportes y diversión       277\n",
            "Libros                     185\n",
            "Instrumentos musicales     177\n",
            "Artículos para el hogar    177 \n",
            "\n",
            "📦 Tienda 4 - Categorías más vendidas:\n",
            "Categoría del Producto\n",
            "Muebles                    480\n",
            "Electrónicos               451\n",
            "Juguetes                   338\n",
            "Deportes y diversión       277\n",
            "Electrodomésticos          254\n",
            "Artículos para el hogar    201\n",
            "Libros                     187\n",
            "Instrumentos musicales     170 \n",
            "\n"
          ]
        }
      ]
    },
    {
      "cell_type": "code",
      "source": [
        "# Categoría más y menos vendida por tienda\n",
        "\n",
        "def resumen_categoria(df, nombre_tienda):\n",
        "    conteo = df[\"Categoría del Producto\"].value_counts()\n",
        "    categoria_top = conteo.idxmax()\n",
        "    cantidad_top = conteo.max()\n",
        "\n",
        "    categoria_low = conteo.idxmin()\n",
        "    cantidad_low = conteo.min()\n",
        "\n",
        "    print(f\"🔹 {nombre_tienda}\")\n",
        "    print(f\"   ✅ Más vendida: {categoria_top} ({cantidad_top} unidades)\")\n",
        "    print(f\"   ❌ Menos vendida: {categoria_low} ({cantidad_low} unidades)\\n\")\n",
        "\n",
        "# Ejecutar para cada tienda\n",
        "resumen_categoria(tienda, \"Tienda 1\")\n",
        "resumen_categoria(tienda2, \"Tienda 2\")\n",
        "resumen_categoria(tienda3, \"Tienda 3\")\n",
        "resumen_categoria(tienda4, \"Tienda 4\")\n"
      ],
      "metadata": {
        "id": "yZR6cOjXYSk1",
        "colab": {
          "base_uri": "https://localhost:8080/"
        },
        "outputId": "5daf0544-96b6-468f-b687-9db8d5c99015"
      },
      "execution_count": 6,
      "outputs": [
        {
          "output_type": "stream",
          "name": "stdout",
          "text": [
            "🔹 Tienda 1\n",
            "   ✅ Más vendida: Muebles (465 unidades)\n",
            "   ❌ Menos vendida: Artículos para el hogar (171 unidades)\n",
            "\n",
            "🔹 Tienda 2\n",
            "   ✅ Más vendida: Muebles (442 unidades)\n",
            "   ❌ Menos vendida: Artículos para el hogar (181 unidades)\n",
            "\n",
            "🔹 Tienda 3\n",
            "   ✅ Más vendida: Muebles (499 unidades)\n",
            "   ❌ Menos vendida: Instrumentos musicales (177 unidades)\n",
            "\n",
            "🔹 Tienda 4\n",
            "   ✅ Más vendida: Muebles (480 unidades)\n",
            "   ❌ Menos vendida: Instrumentos musicales (170 unidades)\n",
            "\n"
          ]
        }
      ]
    },
    {
      "cell_type": "code",
      "source": [
        "# Almacenar la info de cada tienda en una lista de diccionarios\n",
        "resumen = []\n",
        "\n",
        "def recolectar_datos(df, nombre_tienda):\n",
        "    conteo = df[\"Categoría del Producto\"].value_counts()\n",
        "    resumen.append({\n",
        "        \"Tienda\": nombre_tienda,\n",
        "        \"Categoría más vendida\": conteo.idxmax(),\n",
        "        \"Unidades más vendidas\": conteo.max(),\n",
        "        \"Categoría menos vendida\": conteo.idxmin(),\n",
        "        \"Unidades menos vendidas\": conteo.min()\n",
        "    })\n",
        "\n",
        "# Ejecutar para cada tienda\n",
        "recolectar_datos(tienda, \"Tienda 1\")\n",
        "recolectar_datos(tienda2, \"Tienda 2\")\n",
        "recolectar_datos(tienda3, \"Tienda 3\")\n",
        "recolectar_datos(tienda4, \"Tienda 4\")\n",
        "\n",
        "# Convertir a DataFrame para facilitar el análisis\n",
        "df_resumen = pd.DataFrame(resumen)\n",
        "\n",
        "# Mostrar tienda con categoría más vendida (más unidades)\n",
        "print(\"🏆 Tienda con la categoría más vendida en total:\")\n",
        "print(df_resumen.sort_values(by=\"Unidades más vendidas\", ascending=False).iloc[0], \"\\n\")\n",
        "\n",
        "# Mostrar tienda con categoría menos vendida (menos unidades)\n",
        "print(\"📉 Tienda con la categoría menos vendida en total:\")\n",
        "print(df_resumen.sort_values(by=\"Unidades menos vendidas\", ascending=True).iloc[0])\n"
      ],
      "metadata": {
        "colab": {
          "base_uri": "https://localhost:8080/"
        },
        "id": "k0q0qWYU717T",
        "outputId": "7203c854-ea96-4276-f4cb-452b29acd3de"
      },
      "execution_count": 8,
      "outputs": [
        {
          "output_type": "stream",
          "name": "stdout",
          "text": [
            "🏆 Tienda con la categoría más vendida en total:\n",
            "Tienda                                   Tienda 3\n",
            "Categoría más vendida                     Muebles\n",
            "Unidades más vendidas                         499\n",
            "Categoría menos vendida    Instrumentos musicales\n",
            "Unidades menos vendidas                       177\n",
            "Name: 2, dtype: object \n",
            "\n",
            "📉 Tienda con la categoría menos vendida en total:\n",
            "Tienda                                   Tienda 4\n",
            "Categoría más vendida                     Muebles\n",
            "Unidades más vendidas                         480\n",
            "Categoría menos vendida    Instrumentos musicales\n",
            "Unidades menos vendidas                       170\n",
            "Name: 3, dtype: object\n"
          ]
        }
      ]
    },
    {
      "cell_type": "code",
      "source": [
        "# Calcular promedio de calificación por tienda\n",
        "promedios = {\n",
        "    \"Tienda 1\": tienda[\"Calificación\"].mean(),\n",
        "    \"Tienda 2\": tienda2[\"Calificación\"].mean(),\n",
        "    \"Tienda 3\": tienda3[\"Calificación\"].mean(),\n",
        "    \"Tienda 4\": tienda4[\"Calificación\"].mean()\n",
        "}\n",
        "\n",
        "# Convertir a DataFrame\n",
        "df_calificaciones = pd.DataFrame(list(promedios.items()), columns=[\"Tienda\", \"Promedio Calificación\"])\n",
        "\n",
        "# Ordenar de menor a mayor (para asignar puntajes del 1 al 4)\n",
        "df_calificaciones = df_calificaciones.sort_values(by=\"Promedio Calificación\", ascending=True)\n",
        "\n",
        "# Asignar puntajes del 1 (peor) al 4 (mejor)\n",
        "df_calificaciones[\"Puntaje Criterio 2\"] = range(1, len(df_calificaciones)+1)\n",
        "\n",
        "# Formatear calificación a dos decimales (como string)\n",
        "df_calificaciones[\"Promedio Calificación\"] = df_calificaciones[\"Promedio Calificación\"].apply(lambda x: f\"{x:.2f}\")\n",
        "\n",
        "# Reordenar por nombre de tienda (opcional)\n",
        "df_calificaciones = df_calificaciones.sort_values(by=\"Tienda\")\n",
        "\n",
        "# Mostrar resultados\n",
        "print(\"⭐ Puntaje por Calificación Promedio (Criterio 2):\")\n",
        "print(df_calificaciones[[\"Tienda\", \"Promedio Calificación\", \"Puntaje Criterio 2\"]])\n"
      ],
      "metadata": {
        "colab": {
          "base_uri": "https://localhost:8080/"
        },
        "id": "IR83FFSuAyVh",
        "outputId": "260cce29-4447-4e3b-dd80-902295cdf251"
      },
      "execution_count": 18,
      "outputs": [
        {
          "output_type": "stream",
          "name": "stdout",
          "text": [
            "⭐ Puntaje por Calificación Promedio (Criterio 2):\n",
            "     Tienda Promedio Calificación  Puntaje Criterio 2\n",
            "0  Tienda 1                  3.98                   1\n",
            "1  Tienda 2                  4.04                   3\n",
            "2  Tienda 3                  4.05                   4\n",
            "3  Tienda 4                  4.00                   2\n"
          ]
        }
      ]
    },
    {
      "cell_type": "code",
      "source": [
        "# Renombrar la columna correctamente: representa el criterio 2 (calificación promedio)\n",
        "df_calificaciones.rename(columns={\"Puntaje Criterio 3\": \"Puntaje Criterio 2\"}, inplace=True)\n"
      ],
      "metadata": {
        "id": "N4232D13HLjg"
      },
      "execution_count": 33,
      "outputs": []
    },
    {
      "cell_type": "markdown",
      "source": [
        "En resumen, la tienda que tiene menos cosas vendidas sigue siendo la 4, por lo que en base a este criterio, se connfirma como candidata para ser vendida.\n"
      ],
      "metadata": {
        "id": "Ki0hoTtR9ehX"
      }
    },
    {
      "cell_type": "markdown",
      "source": [
        "# 3. Calificación promedio de la tienda (3)\n"
      ],
      "metadata": {
        "id": "Rq6tU_xSY3jk"
      }
    },
    {
      "cell_type": "code",
      "source": [
        "# Calcular promedio de calificación por tienda\n",
        "promedios = {\n",
        "    \"Tienda 1\": tienda[\"Calificación\"].mean(),\n",
        "    \"Tienda 2\": tienda2[\"Calificación\"].mean(),\n",
        "    \"Tienda 3\": tienda3[\"Calificación\"].mean(),\n",
        "    \"Tienda 4\": tienda4[\"Calificación\"].mean()\n",
        "}\n",
        "\n",
        "# Convertir a DataFrame\n",
        "df_calificaciones = pd.DataFrame(list(promedios.items()), columns=[\"Tienda\", \"Promedio Calificación\"])\n",
        "\n",
        "# Ordenar de mayor a menor\n",
        "df_ordenado = df_calificaciones.sort_values(by=\"Promedio Calificación\", ascending=False)\n",
        "\n",
        "# Mostrar resultados ordenados\n",
        "print(\"⭐ Promedio de calificación por tienda (de mayor a menor):\")\n",
        "for i, row in df_ordenado.iterrows():\n",
        "    print(f\"   {row['Tienda']}: {row['Promedio Calificación']:.2f}\")\n",
        "\n"
      ],
      "metadata": {
        "id": "bh3jjjJwY5MU",
        "colab": {
          "base_uri": "https://localhost:8080/"
        },
        "outputId": "125a812e-5af5-40c1-a2a8-688280959e4e"
      },
      "execution_count": 13,
      "outputs": [
        {
          "output_type": "stream",
          "name": "stdout",
          "text": [
            "⭐ Promedio de calificación por tienda (de mayor a menor):\n",
            "   Tienda 3: 4.05\n",
            "   Tienda 2: 4.04\n",
            "   Tienda 4: 4.00\n",
            "   Tienda 1: 3.98\n"
          ]
        }
      ]
    },
    {
      "cell_type": "code",
      "source": [
        "# Calcular promedios\n",
        "promedios = {\n",
        "    \"Tienda 1\": tienda[\"Calificación\"].mean(),\n",
        "    \"Tienda 2\": tienda2[\"Calificación\"].mean(),\n",
        "    \"Tienda 3\": tienda3[\"Calificación\"].mean(),\n",
        "    \"Tienda 4\": tienda4[\"Calificación\"].mean()\n",
        "}\n",
        "\n",
        "# Convertir a DataFrame y ordenar\n",
        "df_calificaciones = pd.DataFrame(list(promedios.items()), columns=[\"Tienda\", \"Promedio Calificación\"])\n",
        "df_ordenado = df_calificaciones.sort_values(by=\"Promedio Calificación\", ascending=False)\n",
        "\n",
        "# Extraer mejores y peores\n",
        "mejor = df_ordenado.iloc[0]\n",
        "peor = df_ordenado.iloc[-1]\n",
        "\n",
        "# Mostrar resultados limpios\n",
        "print(\"🏆 Tienda mejor evaluada:\")\n",
        "print(f\"   {mejor['Tienda']} con {mejor['Promedio Calificación']:.2f} puntos\\n\")\n",
        "\n",
        "print(\"📉 Tienda peor evaluada:\")\n",
        "print(f\"   {peor['Tienda']} con {peor['Promedio Calificación']:.2f} puntos\")\n"
      ],
      "metadata": {
        "id": "I0KkjPoTY88F",
        "colab": {
          "base_uri": "https://localhost:8080/"
        },
        "outputId": "65785cb2-b1a5-4438-9b61-c846cd031889"
      },
      "execution_count": 14,
      "outputs": [
        {
          "output_type": "stream",
          "name": "stdout",
          "text": [
            "🏆 Tienda mejor evaluada:\n",
            "   Tienda 3 con 4.05 puntos\n",
            "\n",
            "📉 Tienda peor evaluada:\n",
            "   Tienda 1 con 3.98 puntos\n"
          ]
        }
      ]
    },
    {
      "cell_type": "code",
      "source": [
        "# Calcular promedio de calificación por tienda\n",
        "promedios = {\n",
        "    \"Tienda 1\": tienda[\"Calificación\"].mean(),\n",
        "    \"Tienda 2\": tienda2[\"Calificación\"].mean(),\n",
        "    \"Tienda 3\": tienda3[\"Calificación\"].mean(),\n",
        "    \"Tienda 4\": tienda4[\"Calificación\"].mean()\n",
        "}\n",
        "\n",
        "# Convertir a DataFrame\n",
        "df_calificaciones = pd.DataFrame(list(promedios.items()), columns=[\"Tienda\", \"Promedio Calificación\"])\n",
        "\n",
        "# Ordenar de mayor a menor (mejor calificación)\n",
        "df_calificaciones = df_calificaciones.sort_values(by=\"Promedio Calificación\", ascending=False)\n",
        "\n",
        "# Asignar puntajes: 4 para la mejor calificación, 1 para la peor\n",
        "df_calificaciones[\"Puntaje Criterio 3\"] = range(len(df_calificaciones), 0, -1)\n",
        "\n",
        "# Formatear calificación con 2 decimales como string\n",
        "df_calificaciones[\"Promedio Calificación\"] = df_calificaciones[\"Promedio Calificación\"].apply(lambda x: f\"{x:.2f}\")\n",
        "\n",
        "# Mostrar resultados ordenados de mayor a menor\n",
        "print(\"⭐ Puntaje por Calificación Promedio (Criterio 3):\")\n",
        "print(df_calificaciones[[\"Tienda\", \"Promedio Calificación\", \"Puntaje Criterio 3\"]])\n"
      ],
      "metadata": {
        "colab": {
          "base_uri": "https://localhost:8080/"
        },
        "id": "zqskJwoVA9mO",
        "outputId": "d7b88c4e-b42f-4ead-b6bc-db89f201ad2a"
      },
      "execution_count": 20,
      "outputs": [
        {
          "output_type": "stream",
          "name": "stdout",
          "text": [
            "⭐ Puntaje por Calificación Promedio (Criterio 3):\n",
            "     Tienda Promedio Calificación  Puntaje Criterio 3\n",
            "2  Tienda 3                  4.05                   4\n",
            "1  Tienda 2                  4.04                   3\n",
            "3  Tienda 4                  4.00                   2\n",
            "0  Tienda 1                  3.98                   1\n"
          ]
        }
      ]
    },
    {
      "cell_type": "markdown",
      "source": [
        "Bajo este criterio, aparece otra candidata a ser vendida, la tienda 1."
      ],
      "metadata": {
        "id": "hMsPwVL0-mm4"
      }
    },
    {
      "cell_type": "markdown",
      "source": [
        "# 4. Productos más y menos vendidos (2)"
      ],
      "metadata": {
        "id": "DmNp1KPBZCm-"
      }
    },
    {
      "cell_type": "code",
      "source": [
        "# Recolectar diferencias entre producto más y menos vendido por tienda\n",
        "diferencias = []\n",
        "\n",
        "def analizar_diferencia(df, nombre_tienda):\n",
        "    conteo = df[\"Producto\"].value_counts()\n",
        "    max_ventas = conteo.max()\n",
        "    min_ventas = conteo.min()\n",
        "    diferencia = max_ventas - min_ventas\n",
        "    diferencias.append({\n",
        "        \"Tienda\": nombre_tienda,\n",
        "        \"Producto más vendido (u)\": max_ventas,\n",
        "        \"Producto menos vendido (u)\": min_ventas,\n",
        "        \"Diferencia de ventas\": diferencia\n",
        "    })\n",
        "\n",
        "# Aplicar a cada tienda\n",
        "analizar_diferencia(tienda, \"Tienda 1\")\n",
        "analizar_diferencia(tienda2, \"Tienda 2\")\n",
        "analizar_diferencia(tienda3, \"Tienda 3\")\n",
        "analizar_diferencia(tienda4, \"Tienda 4\")\n",
        "\n",
        "# Crear DataFrame\n",
        "df_diferencias = pd.DataFrame(diferencias)\n",
        "\n",
        "# Ordenar por menor diferencia (más equilibrado)\n",
        "df_diferencias = df_diferencias.sort_values(by=\"Diferencia de ventas\", ascending=True)\n",
        "\n",
        "# Asignar puntaje (mayor puntaje a menor diferencia)\n",
        "df_diferencias[\"Puntaje Criterio 4\"] = range(len(df_diferencias), 0, -1)\n",
        "\n",
        "# Formatear valores con separadores de miles\n",
        "for col in [\"Producto más vendido (u)\", \"Producto menos vendido (u)\", \"Diferencia de ventas\"]:\n",
        "    df_diferencias[col] = df_diferencias[col].apply(lambda x: f\"{x:,}\".replace(\",\", \".\"))\n",
        "\n",
        "# Reordenar por nombre de tienda (opcional)\n",
        "df_diferencias = df_diferencias.sort_values(by=\"Tienda\")\n",
        "\n",
        "# Mostrar resultado final\n",
        "print(\"📊 Puntaje por Diferencia de ventas entre productos (Criterio 4):\")\n",
        "print(df_diferencias[[\"Tienda\", \"Producto más vendido (u)\", \"Producto menos vendido (u)\", \"Diferencia de ventas\", \"Puntaje Criterio 4\"]])\n"
      ],
      "metadata": {
        "id": "qoyjqijQZHfF",
        "colab": {
          "base_uri": "https://localhost:8080/"
        },
        "outputId": "ecad26c7-dd88-4ef6-b93d-80111f5b49f4"
      },
      "execution_count": 21,
      "outputs": [
        {
          "output_type": "stream",
          "name": "stdout",
          "text": [
            "📊 Puntaje por Diferencia de ventas entre productos (Criterio 4):\n",
            "     Tienda Producto más vendido (u) Producto menos vendido (u)  \\\n",
            "0  Tienda 1                       60                         33   \n",
            "1  Tienda 2                       65                         32   \n",
            "2  Tienda 3                       57                         35   \n",
            "3  Tienda 4                       62                         33   \n",
            "\n",
            "  Diferencia de ventas  Puntaje Criterio 4  \n",
            "0                   27                   3  \n",
            "1                   33                   1  \n",
            "2                   22                   4  \n",
            "3                   29                   2  \n"
          ]
        }
      ]
    },
    {
      "cell_type": "code",
      "source": [
        "# Lista para guardar resultados\n",
        "productos_extremos = []\n",
        "\n",
        "# Función para analizar cada tienda\n",
        "def analizar_productos(df, nombre_tienda):\n",
        "    conteo = df[\"Producto\"].value_counts()\n",
        "\n",
        "    producto_mas_vendido = conteo.idxmax()\n",
        "    unidades_mas_vendidas = conteo.max()\n",
        "\n",
        "    producto_menos_vendido = conteo.idxmin()\n",
        "    unidades_menos_vendidas = conteo.min()\n",
        "\n",
        "    productos_extremos.append({\n",
        "        \"Tienda\": nombre_tienda,\n",
        "        \"Producto más vendido\": producto_mas_vendido,\n",
        "        \"Unidades más vendidas\": unidades_mas_vendidas,\n",
        "        \"Producto menos vendido\": producto_menos_vendido,\n",
        "        \"Unidades menos vendidas\": unidades_menos_vendidas\n",
        "    })\n",
        "\n",
        "# Aplicar a cada tienda\n",
        "analizar_productos(tienda, \"Tienda 1\")\n",
        "analizar_productos(tienda2, \"Tienda 2\")\n",
        "analizar_productos(tienda3, \"Tienda 3\")\n",
        "analizar_productos(tienda4, \"Tienda 4\")\n",
        "\n",
        "# Convertir a DataFrame\n",
        "df_extremos = pd.DataFrame(productos_extremos)\n",
        "\n",
        "# Formatear unidades con separador de miles\n",
        "df_extremos[\"Unidades más vendidas\"] = df_extremos[\"Unidades más vendidas\"].apply(lambda x: f\"{x:,}\".replace(\",\", \".\"))\n",
        "df_extremos[\"Unidades menos vendidas\"] = df_extremos[\"Unidades menos vendidas\"].apply(lambda x: f\"{x:,}\".replace(\",\", \".\"))\n",
        "\n",
        "# Mostrar resultados\n",
        "print(\"📦 Productos más y menos vendidos por tienda:\")\n",
        "print(df_extremos)\n"
      ],
      "metadata": {
        "id": "0Sw3sd4IZIGW",
        "colab": {
          "base_uri": "https://localhost:8080/"
        },
        "outputId": "10af6416-1042-46e1-f38d-fdb5083f3f6d"
      },
      "execution_count": 22,
      "outputs": [
        {
          "output_type": "stream",
          "name": "stdout",
          "text": [
            "📦 Productos más y menos vendidos por tienda:\n",
            "     Tienda       Producto más vendido Unidades más vendidas  \\\n",
            "0  Tienda 1                 Microondas                    60   \n",
            "1  Tienda 2  Iniciando en programación                    65   \n",
            "2  Tienda 3              Kit de bancas                    57   \n",
            "3  Tienda 4                   Cama box                    62   \n",
            "\n",
            "      Producto menos vendido Unidades menos vendidas  \n",
            "0  Auriculares con micrófono                      33  \n",
            "1              Juego de mesa                      32  \n",
            "2    Bloques de construcción                      35  \n",
            "3         Guitarra eléctrica                      33  \n"
          ]
        }
      ]
    },
    {
      "cell_type": "code",
      "source": [
        "# Lista para guardar evaluación\n",
        "evaluacion_c4 = []\n",
        "\n",
        "def evaluar_producto_extremos(df, nombre_tienda):\n",
        "    conteo = df[\"Producto\"].value_counts()\n",
        "\n",
        "    unidades_mas_vendidas = conteo.max()\n",
        "    unidades_menos_vendidas = conteo.min()\n",
        "\n",
        "    evaluacion_c4.append({\n",
        "        \"Tienda\": nombre_tienda,\n",
        "        \"Unidades más vendidas\": unidades_mas_vendidas,\n",
        "        \"Unidades menos vendidas\": unidades_menos_vendidas\n",
        "    })\n",
        "\n",
        "# Evaluar para cada tienda\n",
        "evaluar_producto_extremos(tienda, \"Tienda 1\")\n",
        "evaluar_producto_extremos(tienda2, \"Tienda 2\")\n",
        "evaluar_producto_extremos(tienda3, \"Tienda 3\")\n",
        "evaluar_producto_extremos(tienda4, \"Tienda 4\")\n",
        "\n",
        "# Crear DataFrame\n",
        "df_c4 = pd.DataFrame(evaluacion_c4)\n",
        "\n",
        "# ----- Puntaje por producto más vendido -----\n",
        "df_mas = df_c4.sort_values(by=\"Unidades más vendidas\", ascending=True).reset_index(drop=True)\n",
        "df_mas[\"Puntaje Más Vendido\"] = range(1, len(df_mas)+1)\n",
        "\n",
        "# ----- Puntaje por producto menos vendido -----\n",
        "df_menos = df_c4.sort_values(by=\"Unidades menos vendidas\", ascending=True).reset_index(drop=True)\n",
        "df_menos[\"Puntaje Menos Vendido\"] = range(1, len(df_menos)+1)\n",
        "\n",
        "# Unir puntajes al DataFrame original\n",
        "df_c4 = df_c4.merge(df_mas[[\"Tienda\", \"Puntaje Más Vendido\"]], on=\"Tienda\")\n",
        "df_c4 = df_c4.merge(df_menos[[\"Tienda\", \"Puntaje Menos Vendido\"]], on=\"Tienda\")\n",
        "\n",
        "# Calcular promedio\n",
        "df_c4[\"Puntaje Criterio 4\"] = ((df_c4[\"Puntaje Más Vendido\"] + df_c4[\"Puntaje Menos Vendido\"]) / 2).round(2)\n",
        "\n",
        "# Formatear números\n",
        "df_c4[\"Unidades más vendidas\"] = df_c4[\"Unidades más vendidas\"].apply(lambda x: f\"{x:,}\".replace(\",\", \".\"))\n",
        "df_c4[\"Unidades menos vendidas\"] = df_c4[\"Unidades menos vendidas\"].apply(lambda x: f\"{x:,}\".replace(\",\", \".\"))\n",
        "\n",
        "# Reordenar por nombre\n",
        "df_c4 = df_c4.sort_values(by=\"Tienda\")\n",
        "\n",
        "# Mostrar resultados\n",
        "print(\"📊 Evaluación compuesta del Criterio 4 (promedio de extremos):\")\n",
        "print(df_c4[[\n",
        "    \"Tienda\",\n",
        "    \"Unidades más vendidas\",\n",
        "    \"Puntaje Más Vendido\",\n",
        "    \"Unidades menos vendidas\",\n",
        "    \"Puntaje Menos Vendido\",\n",
        "    \"Puntaje Criterio 4\"\n",
        "]])\n"
      ],
      "metadata": {
        "colab": {
          "base_uri": "https://localhost:8080/"
        },
        "id": "5_UHYviPCpPV",
        "outputId": "1d4601e0-6f2a-4cb1-a3ef-c51f47bc0d88"
      },
      "execution_count": 24,
      "outputs": [
        {
          "output_type": "stream",
          "name": "stdout",
          "text": [
            "📊 Evaluación compuesta del Criterio 4 (promedio de extremos):\n",
            "     Tienda Unidades más vendidas  Puntaje Más Vendido  \\\n",
            "0  Tienda 1                    60                    2   \n",
            "1  Tienda 2                    65                    4   \n",
            "2  Tienda 3                    57                    1   \n",
            "3  Tienda 4                    62                    3   \n",
            "\n",
            "  Unidades menos vendidas  Puntaje Menos Vendido  Puntaje Criterio 4  \n",
            "0                      33                      2                 2.0  \n",
            "1                      32                      1                 2.5  \n",
            "2                      35                      4                 2.5  \n",
            "3                      33                      3                 3.0  \n"
          ]
        }
      ]
    },
    {
      "cell_type": "markdown",
      "source": [
        "El puntaje de este criterio es el resultado total del puntaje por objeto menos vendido y el mas vendido por tienda."
      ],
      "metadata": {
        "id": "CJBo9onMDbXW"
      }
    },
    {
      "cell_type": "code",
      "source": [
        "# Crear resumen con puntajes finales del criterio 4\n",
        "df_c4_final = df_c4[[\"Tienda\", \"Puntaje Criterio 4\"]].copy()\n",
        "\n",
        "# Ordenar de mayor a menor\n",
        "df_c4_final = df_c4_final.sort_values(by=\"Puntaje Criterio 4\", ascending=False).reset_index(drop=True)\n",
        "\n",
        "# Mostrar resultados\n",
        "print(\"🏁 Puntaje Final del Criterio 4 por Tienda (ordenado de mejor a peor):\")\n",
        "print(df_c4_final)\n"
      ],
      "metadata": {
        "colab": {
          "base_uri": "https://localhost:8080/"
        },
        "id": "iv6rxGgEDPqR",
        "outputId": "8d696935-e557-448f-848e-c691bc7ea8c5"
      },
      "execution_count": 25,
      "outputs": [
        {
          "output_type": "stream",
          "name": "stdout",
          "text": [
            "🏁 Puntaje Final del Criterio 4 por Tienda (ordenado de mejor a peor):\n",
            "     Tienda  Puntaje Criterio 4\n",
            "0  Tienda 4                 3.0\n",
            "1  Tienda 2                 2.5\n",
            "2  Tienda 3                 2.5\n",
            "3  Tienda 1                 2.0\n"
          ]
        }
      ]
    },
    {
      "cell_type": "code",
      "source": [
        "# Obtener la tienda con mejor puntaje\n",
        "mejor_c4 = df_c4_final.iloc[0]\n",
        "\n",
        "# Obtener la tienda con peor puntaje\n",
        "peor_c4 = df_c4_final.iloc[-1]\n",
        "\n",
        "# Mostrar resultados\n",
        "print(\"🏆 Tienda con mejor desempeño en el Criterio 4:\")\n",
        "print(f\"   {mejor_c4['Tienda']} con {mejor_c4['Puntaje Criterio 4']} puntos\\n\")\n",
        "\n",
        "print(\"📉 Tienda con peor desempeño en el Criterio 4:\")\n",
        "print(f\"   {peor_c4['Tienda']} con {peor_c4['Puntaje Criterio 4']} puntos\")\n"
      ],
      "metadata": {
        "colab": {
          "base_uri": "https://localhost:8080/"
        },
        "id": "UpA7ff0sD2Z1",
        "outputId": "ad2ed65d-3c6a-4286-a44a-ee1cdf53e345"
      },
      "execution_count": 26,
      "outputs": [
        {
          "output_type": "stream",
          "name": "stdout",
          "text": [
            "🏆 Tienda con mejor desempeño en el Criterio 4:\n",
            "   Tienda 4 con 3.0 puntos\n",
            "\n",
            "📉 Tienda con peor desempeño en el Criterio 4:\n",
            "   Tienda 1 con 2.0 puntos\n"
          ]
        }
      ]
    },
    {
      "cell_type": "markdown",
      "source": [
        "Bajo este criterio, la tienda 1 es la candidata a ser vendida."
      ],
      "metadata": {
        "id": "B-DNTlXQDqVO"
      }
    },
    {
      "cell_type": "markdown",
      "source": [
        "# 5. Envío promedio por tienda (3)"
      ],
      "metadata": {
        "id": "Fl0cGi3bZKqU"
      }
    },
    {
      "cell_type": "code",
      "source": [
        "print(tienda.columns)\n"
      ],
      "metadata": {
        "id": "0tSdCie9ZQlt",
        "colab": {
          "base_uri": "https://localhost:8080/"
        },
        "outputId": "04da9cad-4df7-4578-a98c-079d023646e3"
      },
      "execution_count": 29,
      "outputs": [
        {
          "output_type": "stream",
          "name": "stdout",
          "text": [
            "Index(['Producto', 'Categoría del Producto', 'Precio', 'Costo de envío',\n",
            "       'Fecha de Compra', 'Vendedor', 'Lugar de Compra', 'Calificación',\n",
            "       'Método de pago', 'Cantidad de cuotas', 'lat', 'lon'],\n",
            "      dtype='object')\n"
          ]
        }
      ]
    },
    {
      "cell_type": "markdown",
      "source": [
        "Necesitaba extraer el nombre de la columna de costos de envío.\n"
      ],
      "metadata": {
        "id": "IHKUbfQ2EkaT"
      }
    },
    {
      "cell_type": "code",
      "source": [
        "# Calcular costo promedio de envío por tienda\n",
        "envios = {\n",
        "    \"Tienda 1\": tienda[\"Costo de envío\"].mean(),\n",
        "    \"Tienda 2\": tienda2[\"Costo de envío\"].mean(),\n",
        "    \"Tienda 3\": tienda3[\"Costo de envío\"].mean(),\n",
        "    \"Tienda 4\": tienda4[\"Costo de envío\"].mean()\n",
        "}\n",
        "\n",
        "# Crear DataFrame\n",
        "df_envio = pd.DataFrame(list(envios.items()), columns=[\"Tienda\", \"Costo Promedio Envío\"])\n",
        "\n",
        "# Ordenar de menor a mayor (menor costo es mejor)\n",
        "df_envio = df_envio.sort_values(by=\"Costo Promedio Envío\", ascending=True).reset_index(drop=True)\n",
        "\n",
        "# Asignar puntaje (mayor puntaje al menor costo)\n",
        "df_envio[\"Puntaje Criterio 5\"] = range(len(df_envio), 0, -1)\n",
        "\n",
        "# Formatear el costo promedio con separador de miles y dos decimales\n",
        "df_envio[\"Costo Promedio Envío\"] = df_envio[\"Costo Promedio Envío\"].apply(lambda x: f\"${x:,.2f}\".replace(\",\", \".\"))\n",
        "\n",
        "# Reordenar por nombre de tienda (opcional)\n",
        "df_envio = df_envio.sort_values(by=\"Tienda\")\n",
        "\n",
        "# Mostrar resultados finales\n",
        "print(\"🚚 Evaluación del Criterio 5 – Costo promedio de envío por tienda:\")\n",
        "print(df_envio[[\"Tienda\", \"Costo Promedio Envío\", \"Puntaje Criterio 5\"]])\n"
      ],
      "metadata": {
        "id": "S2JeaCykZNy9",
        "colab": {
          "base_uri": "https://localhost:8080/"
        },
        "outputId": "d89dbcc1-aacb-48e7-c68c-a699c184d864"
      },
      "execution_count": 30,
      "outputs": [
        {
          "output_type": "stream",
          "name": "stdout",
          "text": [
            "🚚 Evaluación del Criterio 5 – Costo promedio de envío por tienda:\n",
            "     Tienda Costo Promedio Envío  Puntaje Criterio 5\n",
            "3  Tienda 1           $26.018.61                   1\n",
            "2  Tienda 2           $25.216.24                   2\n",
            "1  Tienda 3           $24.805.68                   3\n",
            "0  Tienda 4           $23.459.46                   4\n"
          ]
        }
      ]
    },
    {
      "cell_type": "markdown",
      "source": [
        "# RESULTADO DE LA EVALUACIÓN"
      ],
      "metadata": {
        "id": "6aEPecNrGZjz"
      }
    },
    {
      "cell_type": "code",
      "source": [
        "# Paso 1: Unir todos los puntajes en un solo DataFrame por tienda\n",
        "df_puntajes = df_facturacion[[\"Tienda\", \"Puntaje Criterio 1\"]].copy()\n",
        "df_puntajes = df_puntajes.merge(df_calificaciones[[\"Tienda\", \"Puntaje Criterio 2\"]], on=\"Tienda\")\n",
        "df_puntajes = df_puntajes.merge(df_categorias[[\"Tienda\", \"Puntaje Criterio 3\"]], on=\"Tienda\")\n",
        "df_puntajes = df_puntajes.merge(df_c4[[\"Tienda\", \"Puntaje Criterio 4\"]], on=\"Tienda\")\n",
        "df_puntajes = df_puntajes.merge(df_envio[[\"Tienda\", \"Puntaje Criterio 5\"]], on=\"Tienda\")\n",
        "\n",
        "# Paso 2: Aplicar ponderaciones (β)\n",
        "df_puntajes[\"Puntaje Ponderado\"] = (\n",
        "    df_puntajes[\"Puntaje Criterio 1\"] * 3 +\n",
        "    df_puntajes[\"Puntaje Criterio 2\"] * 2 +\n",
        "    df_puntajes[\"Puntaje Criterio 3\"] * 3 +\n",
        "    df_puntajes[\"Puntaje Criterio 4\"] * 2 +\n",
        "    df_puntajes[\"Puntaje Criterio 5\"] * 3\n",
        ")\n",
        "\n",
        "# Paso 3: Ordenar de mayor a menor\n",
        "df_puntajes_final = df_puntajes.sort_values(by=\"Puntaje Ponderado\", ascending=False).reset_index(drop=True)\n",
        "\n",
        "# Mostrar resultados\n",
        "print(\"🏁 Puntaje Final Ponderado por Tienda:\")\n",
        "print(df_puntajes_final[[\"Tienda\", \"Puntaje Ponderado\"]])\n"
      ],
      "metadata": {
        "colab": {
          "base_uri": "https://localhost:8080/"
        },
        "id": "x8EgHY-4GgQG",
        "outputId": "1e4484db-5263-4fa2-d052-4f2ec8e9d947"
      },
      "execution_count": 37,
      "outputs": [
        {
          "output_type": "stream",
          "name": "stdout",
          "text": [
            "🏁 Puntaje Final Ponderado por Tienda:\n",
            "     Tienda  Puntaje Ponderado\n",
            "0  Tienda 3               40.0\n",
            "1  Tienda 4               34.0\n",
            "2  Tienda 2               29.0\n",
            "3  Tienda 1               27.0\n"
          ]
        }
      ]
    },
    {
      "cell_type": "code",
      "source": [
        "print(df_calificaciones.columns)# Extraer la tienda con el puntaje más alto\n",
        "mejor_tienda = df_puntajes_final.iloc[0]\n",
        "\n",
        "# Extraer la tienda con el puntaje más bajo\n",
        "peor_tienda = df_puntajes_final.iloc[-1]\n",
        "\n",
        "# Mostrar resultados\n",
        "print(\"🏆 Mejor tienda según evaluación final:\")\n",
        "print(f\"   {mejor_tienda['Tienda']} con {mejor_tienda['Puntaje Ponderado']} puntos\\n\")\n",
        "\n",
        "print(\"📉 Peor tienda según evaluación final:\")\n",
        "print(f\"   {peor_tienda['Tienda']} con {peor_tienda['Puntaje Ponderado']} puntos\")\n",
        "\n"
      ],
      "metadata": {
        "colab": {
          "base_uri": "https://localhost:8080/"
        },
        "id": "cr17Rh_jGuOs",
        "outputId": "67343519-d514-44b6-807c-2405ca61ff72"
      },
      "execution_count": 40,
      "outputs": [
        {
          "output_type": "stream",
          "name": "stdout",
          "text": [
            "Index(['Tienda', 'Promedio Calificación', 'Puntaje Criterio 2'], dtype='object')\n",
            "🏆 Mejor tienda según evaluación final:\n",
            "   Tienda 3 con 40.0 puntos\n",
            "\n",
            "📉 Peor tienda según evaluación final:\n",
            "   Tienda 1 con 27.0 puntos\n"
          ]
        }
      ]
    },
    {
      "cell_type": "markdown",
      "source": [
        "# 🧾 Resumen Ejecutivo – Evaluación Final\n",
        "Tras analizar las 4 tiendas de Alura Store utilizando 5 criterios clave, y aplicando una ponderación cualitativa (β) para reflejar su importancia relativa, se obtuvo un ranking final ponderado que considera tanto factores financieros como operativos y de satisfacción del cliente.\n",
        "\n",
        "# 🥇 Mejor tienda:\n",
        "Tienda 3\n",
        "🔹 Destacó especialmente en: facturación, calificación promedio y eficiencia logística.\n",
        "🔹 Recomendación: mantener e invertir en esta tienda como modelo de operación.\n",
        "\n",
        "# 📉 Peor tienda:\n",
        "Tienda 1\n",
        "🔸 Presentó bajo desempeño en: facturación, ventas equilibradas y costos de envío.\n",
        "🔸 Recomendación: evaluar su venta, cierre o reestructuración estratégica.\n",
        "\n",
        "# ✅ Decisión sugerida:\n",
        "Vender la tienda 1, maximizando eficiencia operativa y enfocando recursos en las tiendas más rentables y mejor evaluadas.\n",
        "La siguiente en ser considerada para venta, podría ser la tienda 2.\n"
      ],
      "metadata": {
        "id": "Wp78Ng7SHg9g"
      }
    }
  ]
}